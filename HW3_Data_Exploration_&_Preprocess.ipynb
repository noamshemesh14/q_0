{
  "nbformat": 4,
  "nbformat_minor": 0,
  "metadata": {
    "colab": {
      "provenance": [],
      "include_colab_link": true
    },
    "kernelspec": {
      "name": "python3",
      "display_name": "Python 3"
    },
    "language_info": {
      "name": "python"
    }
  },
  "cells": [
    {
      "cell_type": "markdown",
      "metadata": {
        "id": "view-in-github",
        "colab_type": "text"
      },
      "source": [
        "<a href=\"https://colab.research.google.com/github/noamshemesh14/q_0/blob/master/HW3_Data_Exploration_%26_Preprocess.ipynb\" target=\"_parent\"><img src=\"https://colab.research.google.com/assets/colab-badge.svg\" alt=\"Open In Colab\"/></a>"
      ]
    },
    {
      "cell_type": "markdown",
      "metadata": {
        "id": "dvCb1W9KpuHs"
      },
      "source": [
        "# Intro to DS 094700 spring 2023\n",
        "\n",
        "---\n",
        "\n",
        "#HW3\n",
        "\n",
        "Faculty of Data and Decision Sciences at the Technion – Israel Institute of Technology\n"
      ]
    },
    {
      "cell_type": "markdown",
      "source": [
        "## Introduction"
      ],
      "metadata": {
        "id": "CnF8XRGMCyms"
      }
    },
    {
      "cell_type": "markdown",
      "source": [
        "In the following notebook we are going to exercise the **data exploration**, **preprocess** phases via the *google colab* platform.<br>\n",
        "When using data as an input to a model, we can not treat is just as a \"bunch of numbers\".<br>\n",
        "Features of the data can be distributed differently, have different meaning, be missing for some (potentially not random) reasons, etc.."
      ],
      "metadata": {
        "id": "Qdm8XpXsLcGE"
      }
    },
    {
      "cell_type": "markdown",
      "source": [
        "This notebook is a skeleton for your work. <br>\n",
        "You need to fill in the code where you are requested to (questions denoted by **Q**), and submit the full solution via Moodle.<br>\n",
        "The solution for this exercise is the notebook itself (with your solutions filled in).<br>\n",
        "In order to work on the notebook on your own, please go to `File > Save a copy in drive`.<br>\n",
        "Afterwards, change the notebook name to `hw3_123456789_987654321.ipynb` where `123456789` and `987654321` are your ids.<br>\n",
        "When you're finished, you can download the notebook as a file by `File > Download > Download as .ipynb`. <br>\n",
        "Your sumbission is a single `.ipynb` file."
      ],
      "metadata": {
        "id": "a8a-4dfkMZF-"
      }
    },
    {
      "cell_type": "markdown",
      "source": [
        "In this exercise, you are requested to answer the questions via code cells and text cells, depends on the question.\n",
        "\n",
        "Your grade on this submission will be binary."
      ],
      "metadata": {
        "id": "hce4lMIBPdr1"
      }
    },
    {
      "cell_type": "markdown",
      "source": [
        "# Data Exploation"
      ],
      "metadata": {
        "id": "DmXaJLf5PqE_"
      }
    },
    {
      "cell_type": "code",
      "source": [
        "import pandas as pd\n",
        "import numpy as np\n",
        "import matplotlib.pyplot as plt\n",
        "import seaborn as sns\n",
        "\n",
        "np.random.seed(17)"
      ],
      "metadata": {
        "id": "zIOj-2UyTo-I"
      },
      "execution_count": null,
      "outputs": []
    },
    {
      "cell_type": "markdown",
      "source": [
        "Today we are going to work with the California housing dataset"
      ],
      "metadata": {
        "id": "_zSlh9CXPwch"
      }
    },
    {
      "cell_type": "code",
      "source": [
        "from sklearn.datasets import fetch_california_housing\n",
        "\n",
        "data = fetch_california_housing()"
      ],
      "metadata": {
        "id": "7A-vaGK7P1xZ"
      },
      "execution_count": null,
      "outputs": []
    },
    {
      "cell_type": "markdown",
      "source": [
        "Please run the following hidden cell:"
      ],
      "metadata": {
        "id": "4WBlkcLLcnAU"
      }
    },
    {
      "cell_type": "code",
      "source": [
        "#@markdown hidden cell\n",
        "random_features = list(np.random.choice(range(len(data['feature_names'])), size=3, replace=False))\n",
        "random_indices1 = list(np.random.choice(range(data['data'].shape[0]), size=20, replace=False))\n",
        "random_indices2 = list(np.random.choice(range(data['data'].shape[0]), size=5000, replace=False))\n",
        "data['data'][np.ix_(random_indices1, random_features[:-1])] = np.nan\n",
        "data['data'][random_indices2, random_features[-1]] = np.nan"
      ],
      "metadata": {
        "id": "XmlphebLYjvV"
      },
      "execution_count": null,
      "outputs": []
    },
    {
      "cell_type": "markdown",
      "source": [
        "Sklearn datasets' interface is similar to dictionary, with keys and values:"
      ],
      "metadata": {
        "id": "ArhBWOL0QzRZ"
      }
    },
    {
      "cell_type": "code",
      "source": [
        "data.keys()"
      ],
      "metadata": {
        "colab": {
          "base_uri": "https://localhost:8080/"
        },
        "id": "kDZYKcImQtzZ",
        "outputId": "6efe95f6-0fd3-4e45-d358-7d7fe88bd504"
      },
      "execution_count": null,
      "outputs": [
        {
          "output_type": "execute_result",
          "data": {
            "text/plain": [
              "dict_keys(['data', 'target', 'frame', 'target_names', 'feature_names', 'DESCR'])"
            ]
          },
          "metadata": {},
          "execution_count": 4
        }
      ]
    },
    {
      "cell_type": "markdown",
      "source": [
        "Use this property to answer the following questions:<br>\n",
        "**Q:** What are the features?, What is the target value? How many observations are there?"
      ],
      "metadata": {
        "id": "czhgHEcdBg2h"
      }
    },
    {
      "cell_type": "code",
      "source": [
        "# Answer"
      ],
      "metadata": {
        "id": "LvYcFug3E5k3"
      },
      "execution_count": null,
      "outputs": []
    },
    {
      "cell_type": "markdown",
      "source": [
        "**Q:** Create a pd.DataFrame with all features as columns, as well as the target as column. <br>Make sure you use the features names. Present the first 12 rows of this dataset"
      ],
      "metadata": {
        "id": "9kXMuqBTSwo2"
      }
    },
    {
      "cell_type": "code",
      "source": [
        "# Answer"
      ],
      "metadata": {
        "id": "HxI3RUSqE7AO"
      },
      "execution_count": null,
      "outputs": []
    },
    {
      "cell_type": "markdown",
      "source": [
        "### Missing Values"
      ],
      "metadata": {
        "id": "udNV0jt2b6x0"
      }
    },
    {
      "cell_type": "markdown",
      "source": [
        "Sometimes our data can have missing values. <br>\n",
        "This means that for some observations, we do not observe all features, but only a subset of them. <br>Missing data is noted by `nan`. <br>\n",
        "**Q:** Identify which features have missing values. <br>\n",
        "How much records are missing this feature? how much missing values precetange is it for each feature?"
      ],
      "metadata": {
        "id": "ap-pjkd0b9q-"
      }
    },
    {
      "cell_type": "code",
      "source": [
        "# Answer"
      ],
      "metadata": {
        "id": "LbfXKMIdE-6P"
      },
      "execution_count": null,
      "outputs": []
    },
    {
      "cell_type": "markdown",
      "source": [
        "### Features Distribution"
      ],
      "metadata": {
        "id": "OsD1gVG-Ue0r"
      }
    },
    {
      "cell_type": "markdown",
      "source": [
        "**Q:** Please choose 2 features that have no missing values. For each feature:\n",
        "* Is this feature categorical? discrete? continuous?\n",
        "* Describe its meaning (in words)\n",
        "* Visualize their distribution and note one observation from this visualization.\n",
        "\n",
        "For visualizations you can use a [histogram](https://matplotlib.org/stable/api/_as_gen/matplotlib.pyplot.hist.html), a [box plot](https://seaborn.pydata.org/generated/seaborn.boxplot.html), [displot](https://seaborn.pydata.org/generated/seaborn.displot.html), or [pandas plot](https://pandas.pydata.org/docs/reference/api/pandas.DataFrame.plot.html)\n",
        "\n",
        "Please use log-scale if necessary.\n"
      ],
      "metadata": {
        "id": "wk6MnzxuUjld"
      }
    },
    {
      "cell_type": "code",
      "source": [
        "# Answer"
      ],
      "metadata": {
        "id": "ZOVYLLZPxUek"
      },
      "execution_count": null,
      "outputs": []
    },
    {
      "cell_type": "markdown",
      "source": [
        "*Answer:*"
      ],
      "metadata": {
        "id": "TRic1OTcFJwL"
      }
    },
    {
      "cell_type": "code",
      "source": [
        "# Answer"
      ],
      "metadata": {
        "id": "Xmgv1SRTFIOg"
      },
      "execution_count": null,
      "outputs": []
    },
    {
      "cell_type": "markdown",
      "source": [
        "*Answer:*"
      ],
      "metadata": {
        "id": "nUd6yQgcFM4w"
      }
    },
    {
      "cell_type": "markdown",
      "source": [
        "## Correlations"
      ],
      "metadata": {
        "id": "jrqQ86ITBY37"
      }
    },
    {
      "cell_type": "markdown",
      "source": [
        "We would also like to look for connections between features by looking at the pairwise correlations between features.<br>\n",
        "**Q:** Plot a heatmap of the feature correlation matrix. <br>\n",
        "For heatmap visualization you can use either `plt.matshow` or `sns.heatmap`. <br>\n",
        "Please use 'seismic' colormap, where red = 1 and blue = -1. <br>\n",
        "Make sure that the names of the features appear in the x and y ticks."
      ],
      "metadata": {
        "id": "QtJsNzzD3QXW"
      }
    },
    {
      "cell_type": "code",
      "source": [
        "# Answer"
      ],
      "metadata": {
        "id": "l_MtdaOpFW6D"
      },
      "execution_count": null,
      "outputs": []
    },
    {
      "cell_type": "markdown",
      "source": [
        "This is the seismic colormap: ![seismic.jpeg](data:image/jpeg;base64,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)<br>\n",
        "**Q:** Why did we use this kind of colormap? (diverging colormap with white in the middle)"
      ],
      "metadata": {
        "id": "lkys16k8FWmI"
      }
    },
    {
      "cell_type": "markdown",
      "source": [
        "*Answer:*"
      ],
      "metadata": {
        "id": "FobKMDMXFY1k"
      }
    },
    {
      "cell_type": "markdown",
      "source": [
        "**Q:** What can you tell from looking at this correlation matrix?"
      ],
      "metadata": {
        "id": "uYNZ5kqjBeEB"
      }
    },
    {
      "cell_type": "markdown",
      "source": [
        "*Answer:*"
      ],
      "metadata": {
        "id": "tUCflkGVFbtq"
      }
    },
    {
      "cell_type": "markdown",
      "source": [
        "## Handling Missing Data"
      ],
      "metadata": {
        "id": "BSCHt005j1jR"
      }
    },
    {
      "cell_type": "markdown",
      "source": [
        "The data as it currently is, can not just be inserted as input to a model, since some values are missing. <br>\n",
        "We will tackle this problem in two ways:"
      ],
      "metadata": {
        "id": "caI1ZPCwCGC6"
      }
    },
    {
      "cell_type": "markdown",
      "source": [
        "### Drop rows"
      ],
      "metadata": {
        "id": "41lP3EmD6Gwe"
      }
    },
    {
      "cell_type": "markdown",
      "source": [
        "**Q:** For features that their missing precentage is $0 < p < 1\\%$ : drop the corresponding records.<br>\n",
        "\n",
        "Hint: first, identify features that have this precentage. Then, for each feature, take relevant rows (rows with no missing values for this feature) by using `df[feature].notna()`.\n",
        "\n",
        "In order to validate your operations, you can print the shape of the dataframe before and after, and/or count how many missing values are there now per feature.\n"
      ],
      "metadata": {
        "id": "mdglEJdCdysU"
      }
    },
    {
      "cell_type": "code",
      "source": [
        "# Answer"
      ],
      "metadata": {
        "id": "yUb2M6vUFftc"
      },
      "execution_count": null,
      "outputs": []
    },
    {
      "cell_type": "markdown",
      "source": [
        "### Imputation"
      ],
      "metadata": {
        "id": "Qe94p-n46MO6"
      }
    },
    {
      "cell_type": "markdown",
      "source": [
        "We have one feature $f^*$ that its missing precentage is $p > 20\\%$. <br>We wouldn't want to drop the corresponding records, that's too much data to throw away.<br>\n",
        "Therefore, we are going to impute (fill the missing values) by a regression model. This imputation method is called *regression imputation*.<br><br>\n",
        "\n",
        "Here are the main properties of this regression task:\n",
        "* features (`X`) : all features besides $f^*$\n",
        "* target : $f^*$\n",
        "* train set : records (rows) with complete data (no missing values at all)\n",
        "* test set : records (rows) with missing data in $f^*$.\n",
        "\n",
        "\n",
        "Finally, when we have predictions for the test set, we can fill the information in our data, instead of the current missing values. <br>\n",
        "In the end, we will have complete dataset, with no missing values."
      ],
      "metadata": {
        "id": "2o1nIVdnf02I"
      }
    },
    {
      "cell_type": "markdown",
      "source": [
        "**Q:** Identify (by code) which feature is $f^*$<br>\n",
        "**Q:** Use `df[feature].isna()` to identify which rows should go to train and which to test."
      ],
      "metadata": {
        "id": "vyYxKDpTwRfx"
      }
    },
    {
      "cell_type": "code",
      "source": [
        "# Answer"
      ],
      "metadata": {
        "id": "vNwvzDjXFh06"
      },
      "execution_count": null,
      "outputs": []
    },
    {
      "cell_type": "markdown",
      "source": [
        "**Q:** Put full records (records with no missing values) values of all other features (all features besides $f^*$) in a variable `X_train`.<br>\n",
        "**Q:** Put full records values of the imputed feature ($f^*$) in a variable `y_train`.<br>\n",
        "**Q:** Put missing records (records with missing values) values of all other features in a variable `X_test`.\n",
        "\n",
        "Important notes:\n",
        "* do not insert the target values into `X_train` or `X_test`. (think why)\n",
        "* do not insert $f^*$ into `X_train` or `X_test`"
      ],
      "metadata": {
        "id": "-qGr5PgfrLRG"
      }
    },
    {
      "cell_type": "code",
      "source": [
        "# Answer"
      ],
      "metadata": {
        "id": "gcXNvZKMFj2_"
      },
      "execution_count": null,
      "outputs": []
    },
    {
      "cell_type": "markdown",
      "source": [
        "**Q:** Scale data by a scaling method of your choice. You can use [sklearn scalers](https://scikit-learn.org/stable/modules/classes.html#module-sklearn.preprocessing) (e.g. StandardScaler, MinMaxScaler...)\n",
        "\n",
        "* Remember to fit the scaler only by train data.\n",
        "* Remember not to scale the target variable."
      ],
      "metadata": {
        "id": "MKol9f4R6fMQ"
      }
    },
    {
      "cell_type": "code",
      "source": [
        "# Answer"
      ],
      "metadata": {
        "id": "6XvA7BKuFlPQ"
      },
      "execution_count": null,
      "outputs": []
    },
    {
      "cell_type": "markdown",
      "source": [
        "Now we are set to train our regression model. We will use [regression KNN](https://scikit-learn.org/stable/modules/generated/sklearn.neighbors.KNeighborsRegressor.html#sklearn.neighbors.KNeighborsRegressor)<br>\n",
        "**Q:** Train the regression model with `X_train, y_train` and predict values for `X_test`. Set `n_neighbors=5`"
      ],
      "metadata": {
        "id": "Y_I-lbENwx-J"
      }
    },
    {
      "cell_type": "code",
      "source": [
        "from sklearn.neighbors import KNeighborsRegressor"
      ],
      "metadata": {
        "id": "jEdoLqFJxYO3"
      },
      "execution_count": null,
      "outputs": []
    },
    {
      "cell_type": "code",
      "source": [
        "# Answer"
      ],
      "metadata": {
        "id": "bM_bDwFcFmuo"
      },
      "execution_count": null,
      "outputs": []
    },
    {
      "cell_type": "markdown",
      "source": [
        "**Q:** Use the predictions to impute your missing values in the data.<br>Validate your answer by counting the number of missing data (should be 0)."
      ],
      "metadata": {
        "id": "aaQfSUjfxLP4"
      }
    },
    {
      "cell_type": "code",
      "source": [
        "# Answer"
      ],
      "metadata": {
        "id": "Ju9WHgaiFnx6"
      },
      "execution_count": null,
      "outputs": []
    }
  ]
}